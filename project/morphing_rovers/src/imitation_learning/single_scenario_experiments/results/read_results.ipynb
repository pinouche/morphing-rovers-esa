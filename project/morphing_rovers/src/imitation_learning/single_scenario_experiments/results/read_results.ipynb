{
 "cells": [
  {
   "cell_type": "code",
   "execution_count": 2,
   "id": "fdf792b0",
   "metadata": {},
   "outputs": [],
   "source": [
    "import numpy as np\n",
    "import pickle\n",
    "import matplotlib.pyplot as plt\n",
    "import os"
   ]
  },
  {
   "cell_type": "code",
   "execution_count": 6,
   "id": "d112af6d",
   "metadata": {
    "scrolled": false
   },
   "outputs": [
    {
     "name": "stdout",
     "output_type": "stream",
     "text": [
      "for scenario scenario_7_arc_0_radius_3820.21\n",
      "2.1379890918731688\n",
      "for scenario scenario_4_arc_0_radius_8948.77\n",
      "1.4669005513191222\n",
      "for scenario scenario_1_arc_1_radius_20000\n",
      "1.687380075454712\n",
      "for scenario scenario_0_arc_1_radius_11000\n",
      "1.8144532442092896\n",
      "for scenario scenario_3_arc_1_radius_16682.94\n",
      "1.6466831803321837\n",
      "for scenario scenario_6_arc_0_radius_5931.29\n",
      "2.00010347366333\n",
      "for scenario scenario_5_arc_0_radius_17315.95\n",
      "1.926541841030121\n",
      "for scenario scenario_2_arc_1_radius_16344.6\n",
      "1.5870875120162964\n"
     ]
    }
   ],
   "source": [
    "meta_dic = {}\n",
    "for folder in os.listdir(\"./\"):\n",
    "    if \"scenario\" in folder:\n",
    "        dic_min = {}\n",
    "        for file in os.listdir(f\"./{folder}/\"):\n",
    "            dic = pickle.load(open(f\"./{folder}/{file}\", \"rb\"))\n",
    "            for k in dic.keys():\n",
    "                values = dic[k]\n",
    "                dic_min[k] = np.quantile(values, 0.1)\n",
    "        \n",
    "        print(f\"for scenario {k}\")\n",
    "        min_key = min(dic_min, key=dic_min.get)\n",
    "        min_value = dic_min[min_key]\n",
    "        print(min_value)\n",
    "        meta_dic[folder] = min_key"
   ]
  },
  {
   "cell_type": "code",
   "execution_count": 4,
   "id": "7d31af50",
   "metadata": {},
   "outputs": [
    {
     "data": {
      "text/plain": [
       "{'scenario_7': 'scenario_7_arc_0_radius_13820.21',\n",
       " 'scenario_4': 'scenario_4_arc_0_radius_18948.77',\n",
       " 'scenario_1': 'scenario_1_arc_0_radius_2500',\n",
       " 'scenario_0': 'scenario_0_arc_0_radius_11000',\n",
       " 'scenario_3': 'scenario_3_arc_0_radius_16682.94',\n",
       " 'scenario_6': 'scenario_6_arc_0_radius_18431.29',\n",
       " 'scenario_5': 'scenario_5_arc_0_radius_9815.95',\n",
       " 'scenario_2': 'scenario_2_arc_0_radius_6344.6'}"
      ]
     },
     "execution_count": 4,
     "metadata": {},
     "output_type": "execute_result"
    }
   ],
   "source": [
    "meta_dic"
   ]
  },
  {
   "cell_type": "code",
   "execution_count": null,
   "id": "06a01f0c",
   "metadata": {},
   "outputs": [],
   "source": []
  },
  {
   "cell_type": "code",
   "execution_count": null,
   "id": "6a741380",
   "metadata": {},
   "outputs": [],
   "source": []
  },
  {
   "cell_type": "code",
   "execution_count": null,
   "id": "04d500ec",
   "metadata": {},
   "outputs": [],
   "source": []
  },
  {
   "cell_type": "code",
   "execution_count": null,
   "id": "72a1a541",
   "metadata": {},
   "outputs": [],
   "source": []
  },
  {
   "cell_type": "code",
   "execution_count": null,
   "id": "32fe6014",
   "metadata": {},
   "outputs": [],
   "source": []
  },
  {
   "cell_type": "code",
   "execution_count": null,
   "id": "a9b20040",
   "metadata": {},
   "outputs": [],
   "source": []
  }
 ],
 "metadata": {
  "kernelspec": {
   "display_name": "Python 3 (ipykernel)",
   "language": "python",
   "name": "python3"
  },
  "language_info": {
   "codemirror_mode": {
    "name": "ipython",
    "version": 3
   },
   "file_extension": ".py",
   "mimetype": "text/x-python",
   "name": "python",
   "nbconvert_exporter": "python",
   "pygments_lexer": "ipython3",
   "version": "3.10.9"
  }
 },
 "nbformat": 4,
 "nbformat_minor": 5
}
