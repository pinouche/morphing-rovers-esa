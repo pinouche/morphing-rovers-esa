{
 "cells": [
  {
   "cell_type": "code",
   "execution_count": 1,
   "id": "fdf792b0",
   "metadata": {},
   "outputs": [],
   "source": [
    "import numpy as np\n",
    "import pickle\n",
    "import matplotlib.pyplot as plt\n",
    "import os"
   ]
  },
  {
   "cell_type": "code",
   "execution_count": 6,
   "id": "d112af6d",
   "metadata": {
    "scrolled": false
   },
   "outputs": [
    {
     "name": "stdout",
     "output_type": "stream",
     "text": [
      "scenario_16_arc_0_radius_6 2.9640875\n",
      "scenario_19_arc_0_radius_2 1.0643059\n"
     ]
    }
   ],
   "source": [
    "meta_dic = {}\n",
    "for folder in os.listdir(\"./\"):\n",
    "    if \"scenario\" in folder:\n",
    "        dic_min = {}\n",
    "        for file in os.listdir(f\"./{folder}/\"):\n",
    "            dic = pickle.load(open(f\"./{folder}/{file}\", \"rb\"))\n",
    "            for k in dic.keys():\n",
    "                values = dic[k]\n",
    "                dic_min[k] = np.min(values)\n",
    "                #dic_min[k] = np.quantile(values, 0.1)\n",
    "        \n",
    "        min_key = min(dic_min, key=dic_min.get)\n",
    "        min_value = dic_min[min_key]\n",
    "        print(min_key, min_value)\n",
    "        meta_dic[folder] = min_key"
   ]
  },
  {
   "cell_type": "code",
   "execution_count": 7,
   "id": "7d31af50",
   "metadata": {},
   "outputs": [
    {
     "data": {
      "text/plain": [
       "{'scenario_16': 'scenario_16_arc_0_radius_6',\n",
       " 'scenario_19': 'scenario_19_arc_0_radius_2'}"
      ]
     },
     "execution_count": 7,
     "metadata": {},
     "output_type": "execute_result"
    }
   ],
   "source": [
    "# 3, 4, and 6 are good\n",
    "\n",
    "meta_dic"
   ]
  },
  {
   "cell_type": "code",
   "execution_count": 10,
   "id": "06a01f0c",
   "metadata": {},
   "outputs": [
    {
     "data": {
      "text/plain": [
       "1.83091"
      ]
     },
     "execution_count": 10,
     "metadata": {},
     "output_type": "execute_result"
    }
   ],
   "source": [
    "3.75"
   ]
  },
  {
   "cell_type": "code",
   "execution_count": null,
   "id": "fac586ae",
   "metadata": {},
   "outputs": [],
   "source": []
  },
  {
   "cell_type": "code",
   "execution_count": null,
   "id": "37be3737",
   "metadata": {},
   "outputs": [],
   "source": []
  },
  {
   "cell_type": "code",
   "execution_count": 5,
   "id": "3a0da716",
   "metadata": {},
   "outputs": [],
   "source": [
    "import re"
   ]
  },
  {
   "cell_type": "code",
   "execution_count": 6,
   "id": "a69a6575",
   "metadata": {},
   "outputs": [
    {
     "name": "stdout",
     "output_type": "stream",
     "text": [
      "['18', '0', '15474.13']\n",
      "['15', '0', '10872.46']\n",
      "['8', '0', '3878.46']\n",
      "['10', '0', '23662.75']\n",
      "['7', '0', '11320.21']\n",
      "['4', '0', '26448.77']\n",
      "['1', '0', '10000']\n",
      "['14', '0', '10376.9']\n",
      "['9', '0', '23113.1']\n",
      "['20', '0', '21191.76']\n",
      "['17', '0', '11005.63']\n",
      "['21', '0', '5758.89']\n",
      "['12', '0', '7321.16']\n",
      "['0', '0', '11000']\n",
      "['3', '0', '14182.94']\n",
      "['13', '0', '26044.86']\n",
      "['23', '0', '3520.32']\n",
      "['6', '0', '18431.29']\n",
      "['5', '0', '9815.95']\n",
      "['22', '0', '5903.59']\n",
      "['16', '0', '2663.29']\n",
      "['2', '1', '3844.6']\n",
      "['19', '0', '20165.37']\n",
      "['11', '0', '10511.79']\n"
     ]
    }
   ],
   "source": [
    "for k, value in meta_dic.items():\n",
    "    numbers = re.findall(r'\\d+\\.\\d+|\\d+', value)\n",
    "    print(numbers)"
   ]
  },
  {
   "cell_type": "code",
   "execution_count": null,
   "id": "f031aa38",
   "metadata": {},
   "outputs": [],
   "source": []
  },
  {
   "cell_type": "code",
   "execution_count": null,
   "id": "825cb094",
   "metadata": {},
   "outputs": [],
   "source": []
  },
  {
   "cell_type": "code",
   "execution_count": null,
   "id": "d826b0df",
   "metadata": {},
   "outputs": [],
   "source": []
  },
  {
   "cell_type": "code",
   "execution_count": null,
   "id": "5fb08565",
   "metadata": {},
   "outputs": [],
   "source": []
  },
  {
   "cell_type": "code",
   "execution_count": null,
   "id": "6a741380",
   "metadata": {},
   "outputs": [],
   "source": []
  },
  {
   "cell_type": "code",
   "execution_count": null,
   "id": "04d500ec",
   "metadata": {},
   "outputs": [],
   "source": []
  },
  {
   "cell_type": "code",
   "execution_count": null,
   "id": "72a1a541",
   "metadata": {},
   "outputs": [],
   "source": []
  },
  {
   "cell_type": "code",
   "execution_count": null,
   "id": "32fe6014",
   "metadata": {},
   "outputs": [],
   "source": []
  },
  {
   "cell_type": "code",
   "execution_count": null,
   "id": "a9b20040",
   "metadata": {},
   "outputs": [],
   "source": []
  }
 ],
 "metadata": {
  "kernelspec": {
   "display_name": "Python 3 (ipykernel)",
   "language": "python",
   "name": "python3"
  },
  "language_info": {
   "codemirror_mode": {
    "name": "ipython",
    "version": 3
   },
   "file_extension": ".py",
   "mimetype": "text/x-python",
   "name": "python",
   "nbconvert_exporter": "python",
   "pygments_lexer": "ipython3",
   "version": "3.10.9"
  }
 },
 "nbformat": 4,
 "nbformat_minor": 5
}
